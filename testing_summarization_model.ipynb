{
  "nbformat": 4,
  "nbformat_minor": 0,
  "metadata": {
    "colab": {
      "provenance": [],
      "gpuType": "T4"
    },
    "kernelspec": {
      "name": "python3",
      "display_name": "Python 3"
    },
    "language_info": {
      "name": "python"
    },
    "accelerator": "GPU"
  },
  "cells": [
    {
      "cell_type": "markdown",
      "source": [
        "## Install following dependencies/packages:\n",
        "\n",
        "1. `transformers`\n",
        "2. `langchain`\n",
        "3. `langchain-huggingface`\n",
        "\n",
        "For installing use following command in the google colab terminal:\n",
        "`pip install <package>`"
      ],
      "metadata": {
        "id": "f1BUXrpx7zWu"
      }
    },
    {
      "cell_type": "markdown",
      "source": [
        "## Create & Import token from Hugging Face into Google Colab\n",
        "\n",
        "1. Creating a token from hugging face:-\n",
        "\n",
        " Account Profile -> Access Tokens -> Create new token -> give token a name -> switch over to 'Read' tab -> Create token -> Copy token\n",
        "\n",
        "2. Importing token into Google Colab:-\n",
        "\n",
        "  Open terminal in Colab -> enter `huggingface-cli login` command -> It will ask you to paste the token (Note: After pasting, the token will NOT be visible) -> Press 'Y' for git credential -> You should see 'Current Active token: ___' with your token name."
      ],
      "metadata": {
        "id": "XtzOf-bh9dWR"
      }
    },
    {
      "cell_type": "markdown",
      "source": [
        "## Google Colab Notebook"
      ],
      "metadata": {
        "id": "-m7m3e2SPTPU"
      }
    },
    {
      "cell_type": "markdown",
      "source": [
        "### 1. Importing packages and model"
      ],
      "metadata": {
        "id": "k-efI5n-BE_d"
      }
    },
    {
      "cell_type": "markdown",
      "source": [
        "*Note: Make sure you have selected runtime with GPU in google colab, this will speed up the computing*\n",
        "\n",
        "You can check if you have GPU in your runtime by using following code, it should return `True`"
      ],
      "metadata": {
        "id": "sDsrRbnABUB_"
      }
    },
    {
      "cell_type": "code",
      "source": [
        "# importing PyTorch package and using it's 'cuda.is_available()' command to check if GPU is available\n",
        "import torch\n",
        "print(torch.cuda.is_available())"
      ],
      "metadata": {
        "colab": {
          "base_uri": "https://localhost:8080/"
        },
        "id": "daSoCfnVCBqe",
        "outputId": "7d18460f-6b39-4b6f-e74a-3f86f76d3f78"
      },
      "execution_count": 39,
      "outputs": [
        {
          "output_type": "stream",
          "name": "stdout",
          "text": [
            "True\n"
          ]
        }
      ]
    },
    {
      "cell_type": "code",
      "source": [
        "# importing necessory packages\n",
        "from transformers import pipeline\n",
        "\n",
        "# importing/selecting model\n",
        "model = pipeline(task=\"summarization\", model=\"facebook/bart-large-cnn\")"
      ],
      "metadata": {
        "colab": {
          "base_uri": "https://localhost:8080/"
        },
        "id": "JqFeQMOaBNgC",
        "outputId": "d3250fb2-88e3-411e-df7b-d44b677c4d7c"
      },
      "execution_count": 40,
      "outputs": [
        {
          "output_type": "stream",
          "name": "stderr",
          "text": [
            "Device set to use cuda:0\n"
          ]
        }
      ]
    },
    {
      "cell_type": "markdown",
      "source": [
        "### 2. Getting text from user\n"
      ],
      "metadata": {
        "id": "a1C7QucwAihg"
      }
    },
    {
      "cell_type": "markdown",
      "source": [
        "For this testing exmaple I'm using this latest news article from the verge: https://www.theverge.com/news/707106/cyberpunk-2077-mac-release-date\n",
        "\n",
        "\n",
        "**Full Article:**\n",
        "\n",
        "Cyberpunk 2077 is coming to macOS later this week, after it was originally set to debut in early 2025. Cyberpunk 2077: Ultimate Edition will officially be available for Apple silicon devices for the first time on July 17th, from Apple’s own Mac App Store, Steam, Epic Games Store, and GOG.com.\n",
        "\n",
        "CD Projekt Red has optimized Cyberpunk 2077 for a variety of Mac hardware, all the way from the early M1 models up to the latest M4 chip family. Only some M1 and M2 Macs are supported, though — you’ll need a Mac with 16GB or more of unified memory to play Cyberpunk 2077, so base 8GB M1 and M2 chips won’t be compatible.\n",
        "\n",
        "There will be graphics presets that are optimized for each Apple silicon model, and more powerful Apple silicon chips will also fully support features like path tracing, which is a film-like full ray tracing mode that greatly improves lighting and occlusion in the game.\n",
        "\n",
        "AMD’s FSR upscaling and frame generation will also be available in Cyberpunk 2077 on Mac, helping the game feel more smooth with options like path tracing enabled. There will be MetalFX upscaling, too, alongside support for Apple’s Magic Mouse and Trackpad hardware.\n",
        "\n",
        "Apple and CD Projekt Red haven’t shared performance data for what to expect across different Apple silicon Mac configurations. If you own an Apple XDR display, or any other HDR monitor, you’ll get HDR support in Cyberpunk 2077, and there’s even spatial audio and head-tracking with Apple AirPods.\n",
        "\n",
        "Mac owners have technically been able to run Cyberpunk 2077 on their devices for a couple years now, thanks to Apple’s own Proton-like game porting tool. This official release means the game takes full advantage of Apple silicon and Apple’s native Metal graphics APIs, including its Tile-Based Deferred Rendering (TBDR) architecture.\n",
        "\n",
        "Cyberpunk 2077 debuts on Mac just as CD Projekt Red releases the latest 2.3 patch for the game, which includes additional cars and new photo mode features. The game will support cross progression across all platforms and includes the Phantom Liberty expansion and all of the major updates to the game so far.\n"
      ],
      "metadata": {
        "id": "kCfLKO9qD5aB"
      }
    },
    {
      "cell_type": "code",
      "source": [
        "input_text = input('Please enter the text you would like to summarize: ')"
      ],
      "metadata": {
        "colab": {
          "base_uri": "https://localhost:8080/"
        },
        "id": "s7U-opmyAqll",
        "outputId": "3f2525e2-294e-45e1-9663-c812ac67a030"
      },
      "execution_count": 41,
      "outputs": [
        {
          "name": "stdout",
          "output_type": "stream",
          "text": [
            "Please enter the text you would like to summarize: Cyberpunk 2077 is coming to macOS later this week, after it was originally set to debut in early 2025. Cyberpunk 2077: Ultimate Edition will officially be available for Apple silicon devices for the first time on July 17th, from Apple’s own Mac App Store, Steam, Epic Games Store, and GOG.com.  CD Projekt Red has optimized Cyberpunk 2077 for a variety of Mac hardware, all the way from the early M1 models up to the latest M4 chip family. Only some M1 and M2 Macs are supported, though — you’ll need a Mac with 16GB or more of unified memory to play Cyberpunk 2077, so base 8GB M1 and M2 chips won’t be compatible.  There will be graphics presets that are optimized for each Apple silicon model, and more powerful Apple silicon chips will also fully support features like path tracing, which is a film-like full ray tracing mode that greatly improves lighting and occlusion in the game.  AMD’s FSR upscaling and frame generation will also be available in Cyberpunk 2077 on Mac, helping the game feel more smooth with options like path tracing enabled. There will be MetalFX upscaling, too, alongside support for Apple’s Magic Mouse and Trackpad hardware.  Apple and CD Projekt Red haven’t shared performance data for what to expect across different Apple silicon Mac configurations. If you own an Apple XDR display, or any other HDR monitor, you’ll get HDR support in Cyberpunk 2077, and there’s even spatial audio and head-tracking with Apple AirPods.  Mac owners have technically been able to run Cyberpunk 2077 on their devices for a couple years now, thanks to Apple’s own Proton-like game porting tool. This official release means the game takes full advantage of Apple silicon and Apple’s native Metal graphics APIs, including its Tile-Based Deferred Rendering (TBDR) architecture.  Cyberpunk 2077 debuts on Mac just as CD Projekt Red releases the latest 2.3 patch for the game, which includes additional cars and new photo mode features. The game will support cross progression across all platforms and includes the Phantom Liberty expansion and all of the major updates to the game so far.\n"
          ]
        }
      ]
    },
    {
      "cell_type": "markdown",
      "source": [
        "#### Calculating input tokens:"
      ],
      "metadata": {
        "id": "QCTCrN6jEcBu"
      }
    },
    {
      "cell_type": "code",
      "source": [
        "input_tokens = len(model.tokenizer(input_text)[0])        # can also use 'input_ids' instead of [0]th position\n",
        "print(f'The text entered generated {input_tokens} tokens and they will be used as an input to the model')"
      ],
      "metadata": {
        "colab": {
          "base_uri": "https://localhost:8080/"
        },
        "id": "E1Ej9wrFERY-",
        "outputId": "dd5acbd1-4286-4af2-bbef-c389c6c31f5f"
      },
      "execution_count": 42,
      "outputs": [
        {
          "output_type": "stream",
          "name": "stdout",
          "text": [
            "The text entered generated 491 tokens and they will be used as input to the model\n"
          ]
        }
      ]
    },
    {
      "cell_type": "markdown",
      "source": [
        "### 3. Model output"
      ],
      "metadata": {
        "id": "OYqhgPs7FK5h"
      }
    },
    {
      "cell_type": "code",
      "source": [
        "# model output\n",
        "response = model(input_text)\n",
        "\n",
        "# displaying model output\n",
        "print('Output Summary:- ')\n",
        "print(response[0]['summary_text'])"
      ],
      "metadata": {
        "colab": {
          "base_uri": "https://localhost:8080/"
        },
        "id": "st-1GVyYFQm5",
        "outputId": "b3f2403b-1a1b-494c-c16e-ffca96256d80"
      },
      "execution_count": 46,
      "outputs": [
        {
          "output_type": "stream",
          "name": "stdout",
          "text": [
            "Output Summary:- \n",
            "Cyberpunk 2077: Ultimate Edition will be available for Apple silicon devices for the first time on July 17th. CD Projekt Red has optimized the game for a variety of Mac hardware, from the early M1 models up to the latest M4 chip family. Only some M1 and M2 Macs are supported, though — you’ll need a Mac with 16GB or more of unified memory.\n"
          ]
        }
      ]
    },
    {
      "cell_type": "markdown",
      "source": [
        "#### Calculating output tokens\n"
      ],
      "metadata": {
        "id": "GJ3FJ24sFWD0"
      }
    },
    {
      "cell_type": "code",
      "source": [
        "summary = response[0]['summary_text']\n",
        "output_tokens = len(model.tokenizer(summary)[0])\n",
        "print(f'Output Tokens = {output_tokens}')"
      ],
      "metadata": {
        "colab": {
          "base_uri": "https://localhost:8080/"
        },
        "id": "kkQKuM-6FSqo",
        "outputId": "93a3a01b-a9ee-469b-9edf-1a0319acc064"
      },
      "execution_count": 47,
      "outputs": [
        {
          "output_type": "stream",
          "name": "stdout",
          "text": [
            "Output Tokens = 88\n"
          ]
        }
      ]
    },
    {
      "cell_type": "markdown",
      "source": [
        "### 4. Fine tuning the model"
      ],
      "metadata": {
        "id": "aW8eOFm2FpJh"
      }
    },
    {
      "cell_type": "markdown",
      "source": [
        "#### If we consider another example with shorter text as an input"
      ],
      "metadata": {
        "id": "j_EGiqYUGYB6"
      }
    },
    {
      "cell_type": "code",
      "source": [
        "# input\n",
        "text = '''Renewable energy is an essential component of sustainable development. Unlike fossil fuels, which are finite and contribute to environmental degradation, renewable energy sources such as solar, wind, and hydroelectric power offer a clean and sustainable alternative. These energy sources are abundant and can significantly reduce greenhouse gas emissions, helping to combat climate change. By investing in renewable energy, countries can create jobs, enhance energy security, and promote environmental sustainability.'''\n",
        "\n",
        "# calculating input tokens\n",
        "input_tokens = len(model.tokenizer(text)[0])        # can also use 'input_ids' instead of [0]th position\n",
        "print(f'Input tokens: {input_tokens}')"
      ],
      "metadata": {
        "colab": {
          "base_uri": "https://localhost:8080/"
        },
        "id": "pMHNd-VNF1ed",
        "outputId": "fd0cde6f-ff72-47ea-ed88-6d316e4f4b41"
      },
      "execution_count": 55,
      "outputs": [
        {
          "output_type": "stream",
          "name": "stdout",
          "text": [
            "Input tokens: 86\n"
          ]
        }
      ]
    },
    {
      "cell_type": "code",
      "source": [
        "# selecting the model\n",
        "model = pipeline(task=\"summarization\", model=\"facebook/bart-large-cnn\")\n",
        "\n",
        "# model output\n",
        "response = model(text)\n",
        "\n",
        "print()\n",
        "# displaying model output\n",
        "print('Output Summary:- ')\n",
        "print(response[0]['summary_text'])\n",
        "\n",
        "print()\n",
        "# calculating output tokens\n",
        "summary = response[0]['summary_text']\n",
        "output_tokens = len(model.tokenizer(summary)[0])\n",
        "print(f'Output Tokens = {output_tokens}')"
      ],
      "metadata": {
        "colab": {
          "base_uri": "https://localhost:8080/"
        },
        "id": "d7fi13DOGv6j",
        "outputId": "bdf87762-28cc-42ea-a40a-5324af04c527"
      },
      "execution_count": 60,
      "outputs": [
        {
          "output_type": "stream",
          "name": "stderr",
          "text": [
            "Device set to use cuda:0\n",
            "Your max_length is set to 142, but your input_length is only 85. Since this is a summarization task, where outputs shorter than the input are typically wanted, you might consider decreasing max_length manually, e.g. summarizer('...', max_length=42)\n"
          ]
        },
        {
          "output_type": "stream",
          "name": "stdout",
          "text": [
            "\n",
            "Output Summary:- \n",
            "Renewable energy is an essential component of sustainable development. Unlike fossil fuels, renewable energy sources such as solar, wind, and hydroelectric power offer a clean and sustainable alternative. These energy sources are abundant and can significantly reduce greenhouse gas emissions. By investing in renewable energy, countries can create jobs, enhance energy security, and promote environmental sustainability.\n",
            "\n",
            "Output Tokens = 71\n"
          ]
        }
      ]
    },
    {
      "cell_type": "markdown",
      "source": [
        "In the output, the 2nd line is telling us that the length of our input text is too short beacuse it only contained 86 tokens and the model expected a lot more.\n",
        "\n",
        "\n",
        "By default the `max_length`, length of output tokens for this model, is set to 142 i.e. if you provide less than or close to 142 tokens as an input then basically the summarization task might not work and model will just give us rephrased ouput.\n",
        "\n",
        "We can see just that by comparing length of input & output tokens, that model just rephrased the text that was given as an input"
      ],
      "metadata": {
        "id": "RF1Go5-uHnvZ"
      }
    },
    {
      "cell_type": "markdown",
      "source": [
        "#### Making changes to the model i.e. Fine-Tuning"
      ],
      "metadata": {
        "id": "C-AANkl6IU0Q"
      }
    },
    {
      "cell_type": "markdown",
      "source": [
        "Since this is a summarization problem, the ouput of the model needs to be less than input.\n",
        "\n",
        "I'm gonna set the output tokens to be 50% of the input tokens"
      ],
      "metadata": {
        "id": "TZJ45WGCJdRG"
      }
    },
    {
      "cell_type": "code",
      "source": [
        "# Adjusting the output to be 50% of the input\n",
        "desired_max_length = int(input_tokens * 0.5)\n",
        "\n",
        "# if above calculated value is less than 25, then set it to 25. This will ensure user-understable output for really short passages.\n",
        "if desired_max_length < 25:\n",
        "  desired_max_length = 25"
      ],
      "metadata": {
        "id": "UqxXtlzVIjeN"
      },
      "execution_count": 57,
      "outputs": []
    },
    {
      "cell_type": "code",
      "source": [
        "# fine tuning the model\n",
        "response = model(text, max_length=desired_max_length, min_length=5, do_sample=False)"
      ],
      "metadata": {
        "id": "_meZANchJQPB"
      },
      "execution_count": 58,
      "outputs": []
    },
    {
      "cell_type": "markdown",
      "source": [
        "`max_length`: calculated above\n",
        "\n",
        "`min_length`: The minimum length of the generated summary in tokens. This helps ensure the summary isn't too short to be useful.\n",
        "\n",
        "`do_sample`: Set to 'False' for deterministic output (recommended for most summarization tasks unless you want creative variations)."
      ],
      "metadata": {
        "id": "l7gYjmKsJAKU"
      }
    },
    {
      "cell_type": "code",
      "source": [
        "# Output of the model\n",
        "print('Output Summary:- ')\n",
        "print(response[0]['summary_text'])\n",
        "\n",
        "print()\n",
        "# Calculating output tokens\n",
        "summary = response[0]['summary_text']\n",
        "output_tokens = len(model.tokenizer(summary)[0])\n",
        "print(f'Output Tokens = {output_tokens}')"
      ],
      "metadata": {
        "colab": {
          "base_uri": "https://localhost:8080/"
        },
        "id": "iljq_SeXIsMv",
        "outputId": "910d31e7-f385-43b7-fc5c-86a4b5c20de2"
      },
      "execution_count": 59,
      "outputs": [
        {
          "output_type": "stream",
          "name": "stdout",
          "text": [
            "Output Summary:- \n",
            "Renewable energy is an essential component of sustainable development. Unlike fossil fuels, renewable energy sources offer a clean and sustainable alternative. By investing in renewable energy, countries can create jobs, enhance energy security\n",
            "\n",
            "Output Tokens = 42\n"
          ]
        }
      ]
    },
    {
      "cell_type": "markdown",
      "source": [
        "Documentation about `pipeline()` and `max_length`,`min_length` & `do_sample` can be found at:\n",
        "\n",
        "https://huggingface.co/docs/transformers/main_classes/pipelines\n",
        "\n",
        "https://huggingface.co/docs/transformers/main_classes/text_generation"
      ],
      "metadata": {
        "id": "4OVOYLw4Nd0Z"
      }
    }
  ]
}