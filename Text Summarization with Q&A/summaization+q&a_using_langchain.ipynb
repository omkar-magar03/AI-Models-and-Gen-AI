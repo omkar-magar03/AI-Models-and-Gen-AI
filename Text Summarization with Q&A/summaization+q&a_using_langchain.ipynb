{
  "nbformat": 4,
  "nbformat_minor": 0,
  "metadata": {
    "colab": {
      "provenance": [],
      "gpuType": "T4"
    },
    "kernelspec": {
      "name": "python3",
      "display_name": "Python 3"
    },
    "language_info": {
      "name": "python"
    },
    "accelerator": "GPU"
  },
  "cells": [
    {
      "cell_type": "code",
      "source": [
        "# installing packages\n",
        "!pip install transformers langchain langchain_huggingface"
      ],
      "metadata": {
        "id": "YItPBIQ6AVKJ"
      },
      "execution_count": null,
      "outputs": []
    },
    {
      "cell_type": "code",
      "source": [
        "from transformers import pipeline\n",
        "from langchain_huggingface import HuggingFacePipeline\n",
        "from langchain.prompts import PromptTemplate"
      ],
      "metadata": {
        "id": "Gtix5TtuAhEa"
      },
      "execution_count": 4,
      "outputs": []
    },
    {
      "cell_type": "code",
      "source": [
        "from transformers.utils.logging import set_verbosity_error\n",
        "set_verbosity_error()"
      ],
      "metadata": {
        "id": "6nGmlfANAz2l"
      },
      "execution_count": 5,
      "outputs": []
    },
    {
      "cell_type": "code",
      "source": [
        "# checking if GPU is being used\n",
        "import torch\n",
        "print(torch.cuda.is_available())"
      ],
      "metadata": {
        "colab": {
          "base_uri": "https://localhost:8080/"
        },
        "id": "3E5hAXYDCfwl",
        "outputId": "ece1ca11-1610-46e4-d91a-0ba3011f421c"
      },
      "execution_count": 6,
      "outputs": [
        {
          "output_type": "stream",
          "name": "stdout",
          "text": [
            "True\n"
          ]
        }
      ]
    },
    {
      "cell_type": "markdown",
      "source": [
        "#### **WORKFLOW**\n",
        "\n",
        "User Input ->\n",
        "\n",
        "Summarize (using `facebook/bart-large-cnn` model) ->\n",
        "\n",
        "Refine (using `google/pegasus-xsum` model) ->\n",
        "\n",
        "Q/A (using `deepset/roberta-base-squad2` model)"
      ],
      "metadata": {
        "id": "JAmtWtPxA_TE"
      }
    },
    {
      "cell_type": "code",
      "source": [
        "# Summarization\n",
        "summarization_pipeline = pipeline(\n",
        "    task = \"summarization\",\n",
        "    model = \"facebook/bart-large-cnn\"\n",
        ")\n",
        "summarizer = HuggingFacePipeline(pipeline = summarization_pipeline)"
      ],
      "metadata": {
        "id": "6dgToe5WA-HB"
      },
      "execution_count": 10,
      "outputs": []
    },
    {
      "cell_type": "code",
      "source": [
        "# Refinement\n",
        "refinement_pipeline = pipeline(\n",
        "    task = \"summarization\",\n",
        "    model = \"google/pegasus-xsum\"\n",
        ")\n",
        "refiner = HuggingFacePipeline(pipeline = refinement_pipeline)"
      ],
      "metadata": {
        "id": "pR5xGnxfDdex"
      },
      "execution_count": 12,
      "outputs": []
    },
    {
      "cell_type": "code",
      "source": [
        "# Q/A\n",
        "qa_pipeline = pipeline(\n",
        "    task = \"question-answering\",\n",
        "    model = \"deepset/roberta-base-squad2\"\n",
        ")"
      ],
      "metadata": {
        "id": "92NGSLheEu8Y"
      },
      "execution_count": null,
      "outputs": []
    },
    {
      "cell_type": "markdown",
      "source": [
        "***INPUT***\n",
        "(Source: Wikipedia)\n",
        "\n",
        "Artificial intelligence (AI) is the capability of computational systems to perform tasks typically associated with human intelligence, such as learning, reasoning, problem-solving, perception, and decision-making. It is a field of research in computer science that develops and studies methods and software that enable machines to perceive their environment and use learning and intelligence to take actions that maximize their chances of achieving defined goals.[1]\n",
        "\n",
        "High-profile applications of AI include advanced web search engines (e.g., Google Search); recommendation systems (used by YouTube, Amazon, and Netflix); virtual assistants (e.g., Google Assistant, Siri, and Alexa); autonomous vehicles (e.g., Waymo); generative and creative tools (e.g., language models and AI art); and superhuman play and analysis in strategy games (e.g., chess and Go). However, many AI applications are not perceived as AI: \"A lot of cutting edge AI has filtered into general applications, often without being called AI because once something becomes useful enough and common enough it's not labeled AI anymore.\"[2][3]\n",
        "\n",
        "Various subfields of AI research are centered around particular goals and the use of particular tools. The traditional goals of AI research include learning, reasoning, knowledge representation, planning, natural language processing, perception, and support for robotics.[a] To reach these goals, AI researchers have adapted and integrated a wide range of techniques, including search and mathematical optimization, formal logic, artificial neural networks, and methods based on statistics, operations research, and economics.[b] AI also draws upon psychology, linguistics, philosophy, neuroscience, and other fields.[4] Some companies, such as OpenAI, Google DeepMind and Meta,[5] aim to create artificial general intelligence (AGI)—AI that can complete virtually any cognitive task at least as well as a human.\n",
        "\n",
        "Artificial intelligence was founded as an academic discipline in 1956,[6] and the field went through multiple cycles of optimism throughout its history,[7][8] followed by periods of disappointment and loss of funding, known as AI winters.[9][10] Funding and interest vastly increased after 2012 when graphics processing units started being used to accelerate neural networks and deep learning outperformed previous AI techniques.[11] This growth accelerated further after 2017 with the transformer architecture.[12] In the 2020s, an ongoing period of rapid progress in advanced generative AI became known as the AI boom. Generative AI's ability to create and modify content has led to several unintended consequences and harms, which has raised ethical concerns about AI's long-term effects and potential existential risks, prompting discussions about regulatory policies to ensure the safety and benefits of the technology."
      ],
      "metadata": {
        "id": "YjK2UgyOGrlj"
      }
    },
    {
      "cell_type": "code",
      "source": [
        "# taking user input\n",
        "text_to_summarize = input(\"Enter the text to summarize:\\n\")"
      ],
      "metadata": {
        "colab": {
          "base_uri": "https://localhost:8080/"
        },
        "id": "qZbJT-ImGCXD",
        "outputId": "92d6bd85-f667-4cb7-c9f8-1189f6bfce22"
      },
      "execution_count": 40,
      "outputs": [
        {
          "name": "stdout",
          "output_type": "stream",
          "text": [
            "Enter the text to summarize:\n",
            "Artificial intelligence (AI) is the capability of computational systems to perform tasks typically associated with human intelligence, such as learning, reasoning, problem-solving, perception, and decision-making. It is a field of research in computer science that develops and studies methods and software that enable machines to perceive their environment and use learning and intelligence to take actions that maximize their chances of achieving defined goals.[1]  High-profile applications of AI include advanced web search engines (e.g., Google Search); recommendation systems (used by YouTube, Amazon, and Netflix); virtual assistants (e.g., Google Assistant, Siri, and Alexa); autonomous vehicles (e.g., Waymo); generative and creative tools (e.g., language models and AI art); and superhuman play and analysis in strategy games (e.g., chess and Go). However, many AI applications are not perceived as AI: \"A lot of cutting edge AI has filtered into general applications, often without being called AI because once something becomes useful enough and common enough it's not labeled AI anymore.\"[2][3]  Various subfields of AI research are centered around particular goals and the use of particular tools. The traditional goals of AI research include learning, reasoning, knowledge representation, planning, natural language processing, perception, and support for robotics.[a] To reach these goals, AI researchers have adapted and integrated a wide range of techniques, including search and mathematical optimization, formal logic, artificial neural networks, and methods based on statistics, operations research, and economics.[b] AI also draws upon psychology, linguistics, philosophy, neuroscience, and other fields.[4] Some companies, such as OpenAI, Google DeepMind and Meta,[5] aim to create artificial general intelligence (AGI)—AI that can complete virtually any cognitive task at least as well as a human.  Artificial intelligence was founded as an academic discipline in 1956,[6] and the field went through multiple cycles of optimism throughout its history,[7][8] followed by periods of disappointment and loss of funding, known as AI winters.[9][10] Funding and interest vastly increased after 2012 when graphics processing units started being used to accelerate neural networks and deep learning outperformed previous AI techniques.[11] This growth accelerated further after 2017 with the transformer architecture.[12] In the 2020s, an ongoing period of rapid progress in advanced generative AI became known as the AI boom. Generative AI's ability to create and modify content has led to several unintended consequences and harms, which has raised ethical concerns about AI's long-term effects and potential existential risks, prompting discussions about regulatory policies to ensure the safety and benefits of the technology. \n"
          ]
        }
      ]
    },
    {
      "cell_type": "code",
      "source": [
        "# asking how long the summary should be\n",
        "length = input(\"Enter the length (short/medium/long):\\n\")"
      ],
      "metadata": {
        "colab": {
          "base_uri": "https://localhost:8080/"
        },
        "id": "oCFgvsufGvNI",
        "outputId": "b57598ac-3c4e-42b6-97eb-86244a8961b0"
      },
      "execution_count": 41,
      "outputs": [
        {
          "name": "stdout",
          "output_type": "stream",
          "text": [
            "Enter the length (short/medium/long):\n",
            "short\n"
          ]
        }
      ]
    },
    {
      "cell_type": "code",
      "source": [
        "# prompt\n",
        "summary_template = PromptTemplate.from_template(\"Summarize the following text in {length} way:\\n\\n{text}\")"
      ],
      "metadata": {
        "id": "sj4gONGtFndX"
      },
      "execution_count": 42,
      "outputs": []
    },
    {
      "cell_type": "code",
      "source": [
        "# chaining\n",
        "summarization_chain = summary_template | summarizer | refiner"
      ],
      "metadata": {
        "id": "AA5Ky4KRHhsz"
      },
      "execution_count": 43,
      "outputs": []
    },
    {
      "cell_type": "code",
      "source": [
        "summary = summarization_chain.invoke({\n",
        "    \"text\": text_to_summarize,\n",
        "    \"length\": length\n",
        "})"
      ],
      "metadata": {
        "id": "yraryEatHpMx"
      },
      "execution_count": 44,
      "outputs": []
    },
    {
      "cell_type": "code",
      "source": [
        "# printing summary\n",
        "print(\"Generated Summary:-\")\n",
        "print(summary)"
      ],
      "metadata": {
        "colab": {
          "base_uri": "https://localhost:8080/"
        },
        "id": "wA0z12VvH5sC",
        "outputId": "1b3cd661-9167-4fff-9527-5d8ab934d865"
      },
      "execution_count": 45,
      "outputs": [
        {
          "output_type": "stream",
          "name": "stdout",
          "text": [
            "Generated Summary:-\n",
            "Artificial intelligence (AI) is the capability of computational systems to perform tasks typically associated with human intelligence.\n"
          ]
        }
      ]
    },
    {
      "cell_type": "code",
      "source": [
        "# Q/A\n",
        "while True:\n",
        "  question = input(\"\\nAsk a question (or type 'exit' to stop):\\n\")\n",
        "  if question.lower().strip() == 'exit':\n",
        "    print(\"Q/A session ended\")\n",
        "    break\n",
        "  qa_result = qa_pipeline(question=question, context=text_to_summarize)\n",
        "  print(f\"\\nANSWER: {qa_result['answer']}\\n\")"
      ],
      "metadata": {
        "colab": {
          "base_uri": "https://localhost:8080/"
        },
        "id": "-tfRjwvYIwMK",
        "outputId": "3d6b6464-5e8b-40df-81f2-aebc35010ac2"
      },
      "execution_count": 46,
      "outputs": [
        {
          "output_type": "stream",
          "name": "stdout",
          "text": [
            "\n",
            "Ask a question (or type 'exit' to stop):\n",
            "what is artificial intelligence\n",
            "\n",
            "ANSWER: the capability of computational systems to perform tasks typically associated with human intelligence\n",
            "\n",
            "\n",
            "Ask a question (or type 'exit' to stop):\n",
            "what are few high profile applications of AI\n",
            "\n",
            "ANSWER: robotics\n",
            "\n",
            "\n",
            "Ask a question (or type 'exit' to stop):\n",
            "when was artificial intelligence founded\n",
            "\n",
            "ANSWER: 1956\n",
            "\n",
            "\n",
            "Ask a question (or type 'exit' to stop):\n",
            "exit\n",
            "Q/A session ended\n"
          ]
        }
      ]
    }
  ]
}